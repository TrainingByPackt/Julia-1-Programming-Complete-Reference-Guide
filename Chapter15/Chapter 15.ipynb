{
 "cells": [
  {
   "cell_type": "code",
   "execution_count": null,
   "metadata": {},
   "outputs": [],
   "source": [
    "using Pkg\n",
    "pkg\"activate .\""
   ]
  },
  {
   "cell_type": "code",
   "execution_count": null,
   "metadata": {},
   "outputs": [],
   "source": [
    "# Run this cell in order to download all the package dependencies with the exact versions used in the book\n",
    "# This is necessary if (some of) the packages have been updated and have introduced breaking changes\n",
    "pkg\"instantiate\""
   ]
  },
  {
   "cell_type": "code",
   "execution_count": 1,
   "metadata": {},
   "outputs": [],
   "source": [
    "using DelimitedFiles"
   ]
  },
  {
   "cell_type": "code",
   "execution_count": 13,
   "metadata": {},
   "outputs": [
    {
     "data": {
      "text/plain": [
       "10×9 Array{Any,2}:\n",
       " \"Moonlight (2016)\"                   0  0  0  1  0  0  0  0\n",
       " \"Zootopia (2016)\"                    1  1  1  0  0  0  0  0\n",
       " \"Arrival (2016)\"                     0  0  0  1  0  1  0  1\n",
       " \"Hell or High Water (2016)\"          0  0  0  1  0  1  0  0\n",
       " \"La La Land (2016)\"                  0  0  1  1  0  0  1  0\n",
       " \"The Jungle Book (2016)\"             1  0  0  0  1  0  0  0\n",
       " \"Manchester by the Sea (2016)\"       0  0  0  1  0  0  0  0\n",
       " \"Finding Dory (2016)\"                0  1  0  0  0  0  0  0\n",
       " \"Captain America: Civil War (2016)\"  1  0  0  0  0  0  0  1\n",
       " \"Moana (2016)\"                       1  1  0  0  0  0  0  0"
      ]
     },
     "execution_count": 13,
     "metadata": {},
     "output_type": "execute_result"
    }
   ],
   "source": [
    "movies = readdlm(\"top_10_movies.tsv\", '\\t', skipstart=1)"
   ]
  },
  {
   "cell_type": "code",
   "execution_count": 7,
   "metadata": {},
   "outputs": [
    {
     "data": {
      "text/plain": [
       "9-element Array{Any,1}:\n",
       "  \"Finding Nemo (2003)\"\n",
       " 0                     \n",
       " 1                     \n",
       " 1                     \n",
       " 0                     \n",
       " 1                     \n",
       " 0                     \n",
       " 0                     \n",
       " 0                     "
      ]
     },
     "execution_count": 7,
     "metadata": {},
     "output_type": "execute_result"
    }
   ],
   "source": [
    "nemo = [\"Finding Nemo (2003)\", 0, 1, 1, 0, 1, 0, 0, 0]"
   ]
  },
  {
   "cell_type": "code",
   "execution_count": 2,
   "metadata": {},
   "outputs": [
    {
     "name": "stdout",
     "output_type": "stream",
     "text": [
      "\u001b[32m\u001b[1m  Updating\u001b[22m\u001b[39m registry at `~/.julia/registries/General`\n",
      "\u001b[32m\u001b[1m  Updating\u001b[22m\u001b[39m git-repo `https://github.com/JuliaRegistries/General.git`\n",
      "\u001b[2K\u001b[?25h\u001b[32m\u001b[1m Resolving\u001b[22m\u001b[39m package versions...===============>]  100.0 %.0 %\n",
      "\u001b[32m\u001b[1m Installed\u001b[22m\u001b[39m IntervalSets ─ v0.3.1\n",
      "\u001b[32m\u001b[1m Installed\u001b[22m\u001b[39m Lazy ───────── v0.13.2\n",
      "\u001b[32m\u001b[1m Installed\u001b[22m\u001b[39m StaticArrays ─ v0.9.2\n",
      "\u001b[32m\u001b[1m Installed\u001b[22m\u001b[39m Colors ─────── v0.9.5\n",
      "\u001b[32m\u001b[1m  Updating\u001b[22m\u001b[39m `~/.julia/environments/v1.0/Project.toml`\n",
      " \u001b[90m [b4f34e82]\u001b[39m\u001b[92m + Distances v0.7.3\u001b[39m\n",
      "\u001b[32m\u001b[1m  Updating\u001b[22m\u001b[39m `~/.julia/environments/v1.0/Manifest.toml`\n",
      " \u001b[90m [5ae59095]\u001b[39m\u001b[93m ↑ Colors v0.9.4 ⇒ v0.9.5\u001b[39m\n",
      " \u001b[90m [8197267c]\u001b[39m\u001b[93m ↑ IntervalSets v0.3.0 ⇒ v0.3.1\u001b[39m\n",
      " \u001b[90m [50d2b5c4]\u001b[39m\u001b[93m ↑ Lazy v0.13.1 ⇒ v0.13.2\u001b[39m\n",
      " \u001b[90m [90137ffa]\u001b[39m\u001b[93m ↑ StaticArrays v0.9.1 ⇒ v0.9.2\u001b[39m\n"
     ]
    }
   ],
   "source": [
    "using Pkg\n",
    "pkg\"add Distances\""
   ]
  },
  {
   "cell_type": "code",
   "execution_count": 19,
   "metadata": {},
   "outputs": [],
   "source": [
    "using Distances"
   ]
  },
  {
   "cell_type": "code",
   "execution_count": 11,
   "metadata": {},
   "outputs": [
    {
     "data": {
      "text/plain": [
       "Dict{String,Int64} with 0 entries"
      ]
     },
     "execution_count": 11,
     "metadata": {},
     "output_type": "execute_result"
    }
   ],
   "source": [
    "distances = Dict{String,Int}()"
   ]
  },
  {
   "cell_type": "code",
   "execution_count": 26,
   "metadata": {},
   "outputs": [],
   "source": [
    "for i in 1:size(movies, 1)\n",
    "    distances[movies[i,:][1]] =  hamming(Int[movies[i,2:end]...], Int[nemo[2:end]...])\n",
    "end"
   ]
  },
  {
   "cell_type": "code",
   "execution_count": 27,
   "metadata": {},
   "outputs": [
    {
     "data": {
      "text/plain": [
       "Dict{String,Int64} with 10 entries:\n",
       "  \"The Jungle Book (2016)\"            => 3\n",
       "  \"Hell or High Water (2016)\"         => 5\n",
       "  \"Arrival (2016)\"                    => 6\n",
       "  \"La La Land (2016)\"                 => 4\n",
       "  \"Moana (2016)\"                      => 3\n",
       "  \"Captain America: Civil War (2016)\" => 5\n",
       "  \"Moonlight (2016)\"                  => 4\n",
       "  \"Finding Dory (2016)\"               => 2\n",
       "  \"Zootopia (2016)\"                   => 2\n",
       "  \"Manchester by the Sea (2016)\"      => 4"
      ]
     },
     "execution_count": 27,
     "metadata": {},
     "output_type": "execute_result"
    }
   ],
   "source": [
    "distances"
   ]
  },
  {
   "cell_type": "code",
   "execution_count": 6,
   "metadata": {},
   "outputs": [
    {
     "data": {
      "text/plain": [
       "11×9 Array{Any,2}:\n",
       " \"Movie title\"                        …   \"Missie\"    \"Musk\"    \"Sam\"\n",
       " \"Moonlight (2016)\"                      9           2          \"\"   \n",
       " \"Zootopia (2016)\"                        \"\"         5          \"\"   \n",
       " \"Arrival (2016)\"                        9            \"\"      10     \n",
       " \"Hell or High Water (2016)\"             8            \"\"        \"\"   \n",
       " \"La La Land (2016)\"                  …   \"\"        10          \"\"   \n",
       " \"The Jungle Book (2016)\"                 \"\"         6          \"\"   \n",
       " \"Manchester by the Sea (2016)\"           \"\"          \"\"        \"\"   \n",
       " \"Finding Dory (2016)\"                    \"\"          \"\"        \"\"   \n",
       " \"Captain America: Civil War (2016)\"      \"\"          \"\"       9     \n",
       " \"Moana (2016)\"                       …   \"\"         7          \"\"   "
      ]
     },
     "execution_count": 6,
     "metadata": {},
     "output_type": "execute_result"
    }
   ],
   "source": [
    "movies = readdlm(\"top_10_movies_user_rankings.csv\", ';')"
   ]
  },
  {
   "cell_type": "code",
   "execution_count": 9,
   "metadata": {
    "inputHidden": false,
    "outputHidden": false
   },
   "outputs": [
    {
     "name": "stdout",
     "output_type": "stream",
     "text": [
      "\u001b[32m\u001b[1m Resolving\u001b[22m\u001b[39m package versions...\n",
      "\u001b[32m\u001b[1m  Updating\u001b[22m\u001b[39m `~/.julia/environments/v1.0/Project.toml`\n",
      "\u001b[90m [no changes]\u001b[39m\n",
      "\u001b[32m\u001b[1m  Updating\u001b[22m\u001b[39m `~/.julia/environments/v1.0/Manifest.toml`\n",
      "\u001b[90m [no changes]\u001b[39m\n"
     ]
    },
    {
     "name": "stderr",
     "output_type": "stream",
     "text": [
      "┌ Info: Recompiling stale cache file /Users/adrian/.julia/compiled/v1.0/CSV/HHBkp.ji for CSV [336ed68f-0bac-5ca0-87d4-7b16caf5d00b]\n",
      "└ @ Base loading.jl:1187\n"
     ]
    }
   ],
   "source": [
    "pkg\"add DataFrames CSV\"\n",
    "using CSV, DataFrames"
   ]
  },
  {
   "cell_type": "code",
   "execution_count": 34,
   "metadata": {
    "inputHidden": false,
    "outputHidden": false
   },
   "outputs": [
    {
     "data": {
      "text/html": [
       "<table class=\"data-frame\"><thead><tr><th></th><th>Movie title</th><th>Acton</th><th>Annie</th><th>Comey</th><th>Dean</th><th>Kit</th><th>Missie</th><th>Musk</th><th>Sam</th></tr><tr><th></th><th>String⍰</th><th>Int64⍰</th><th>Int64⍰</th><th>Int64⍰</th><th>Int64⍰</th><th>Int64⍰</th><th>Int64⍰</th><th>Int64⍰</th><th>Int64⍰</th></tr></thead><tbody><tr><th>1</th><td>Moonlight (2016)</td><td>missing</td><td>3</td><td>missing</td><td>10</td><td>missing</td><td>9</td><td>2</td><td>missing</td></tr><tr><th>2</th><td>Zootopia (2016)</td><td>9</td><td>10</td><td>7</td><td>missing</td><td>10</td><td>missing</td><td>5</td><td>missing</td></tr><tr><th>3</th><td>Arrival (2016)</td><td>5</td><td>missing</td><td>6</td><td>10</td><td>missing</td><td>9</td><td>missing</td><td>10</td></tr><tr><th>4</th><td>Hell or High Water (2016)</td><td>3</td><td>missing</td><td>3</td><td>10</td><td>missing</td><td>8</td><td>missing</td><td>missing</td></tr><tr><th>5</th><td>La La Land (2016)</td><td>6</td><td>missing</td><td>8</td><td>9</td><td>missing</td><td>missing</td><td>10</td><td>missing</td></tr><tr><th>6</th><td>The Jungle Book (2016)</td><td>8</td><td>7</td><td>missing</td><td>2</td><td>9</td><td>missing</td><td>6</td><td>missing</td></tr><tr><th>7</th><td>Manchester by the Sea (2016)</td><td>missing</td><td>missing</td><td>2</td><td>8</td><td>missing</td><td>missing</td><td>missing</td><td>missing</td></tr><tr><th>8</th><td>Finding Dory (2016)</td><td>7</td><td>8</td><td>5</td><td>4</td><td>10</td><td>missing</td><td>missing</td><td>missing</td></tr><tr><th>9</th><td>Captain America: Civil War (2016)</td><td>10</td><td>missing</td><td>5</td><td>6</td><td>missing</td><td>missing</td><td>missing</td><td>9</td></tr><tr><th>10</th><td>Moana (2016)</td><td>8</td><td>9</td><td>missing</td><td>missing</td><td>10</td><td>missing</td><td>7</td><td>missing</td></tr></tbody></table>"
      ],
      "text/plain": [
       "10×9 DataFrame. Omitted printing of 5 columns\n",
       "│ Row │ Movie title                       │ Acton   │ Annie   │ Comey   │\n",
       "│     │ \u001b[90mUnion{Missing, String}\u001b[39m            │ \u001b[90mInt64⍰\u001b[39m  │ \u001b[90mInt64⍰\u001b[39m  │ \u001b[90mInt64⍰\u001b[39m  │\n",
       "├─────┼───────────────────────────────────┼─────────┼─────────┼─────────┤\n",
       "│ 1   │ Moonlight (2016)                  │ \u001b[90mmissing\u001b[39m │ 3       │ \u001b[90mmissing\u001b[39m │\n",
       "│ 2   │ Zootopia (2016)                   │ 9       │ 10      │ 7       │\n",
       "│ 3   │ Arrival (2016)                    │ 5       │ \u001b[90mmissing\u001b[39m │ 6       │\n",
       "│ 4   │ Hell or High Water (2016)         │ 3       │ \u001b[90mmissing\u001b[39m │ 3       │\n",
       "│ 5   │ La La Land (2016)                 │ 6       │ \u001b[90mmissing\u001b[39m │ 8       │\n",
       "│ 6   │ The Jungle Book (2016)            │ 8       │ 7       │ \u001b[90mmissing\u001b[39m │\n",
       "│ 7   │ Manchester by the Sea (2016)      │ \u001b[90mmissing\u001b[39m │ \u001b[90mmissing\u001b[39m │ 2       │\n",
       "│ 8   │ Finding Dory (2016)               │ 7       │ 8       │ 5       │\n",
       "│ 9   │ Captain America: Civil War (2016) │ 10      │ \u001b[90mmissing\u001b[39m │ 5       │\n",
       "│ 10  │ Moana (2016)                      │ 8       │ 9       │ \u001b[90mmissing\u001b[39m │"
      ]
     },
     "execution_count": 34,
     "metadata": {},
     "output_type": "execute_result"
    }
   ],
   "source": [
    "movies = CSV.read(\"top_10_movies_user_rankings.csv\", delim = ';')"
   ]
  },
  {
   "cell_type": "code",
   "execution_count": 11,
   "metadata": {
    "inputHidden": false,
    "outputHidden": false
   },
   "outputs": [
    {
     "data": {
      "text/html": [
       "<table class=\"data-frame\"><thead><tr><th></th><th>variable</th><th>mean</th><th>min</th><th>median</th><th>max</th><th>nunique</th><th>nmissing</th><th>eltype</th></tr><tr><th></th><th>Symbol</th><th>Union…</th><th>Any</th><th>Union…</th><th>Any</th><th>Union…</th><th>Int64</th><th>DataType</th></tr></thead><tbody><tr><th>1</th><td>Movie title</td><td></td><td>Arrival (2016)</td><td></td><td>Zootopia (2016)</td><td>10</td><td>0</td><td>String</td></tr><tr><th>2</th><td>Acton</td><td>7.0</td><td>3</td><td>7.5</td><td>10</td><td></td><td>2</td><td>Int64</td></tr><tr><th>3</th><td>Annie</td><td>7.4</td><td>3</td><td>8.0</td><td>10</td><td></td><td>5</td><td>Int64</td></tr><tr><th>4</th><td>Comey</td><td>5.14286</td><td>2</td><td>5.0</td><td>8</td><td></td><td>3</td><td>Int64</td></tr><tr><th>5</th><td>Dean</td><td>7.375</td><td>2</td><td>8.5</td><td>10</td><td></td><td>2</td><td>Int64</td></tr><tr><th>6</th><td>Kit</td><td>9.75</td><td>9</td><td>10.0</td><td>10</td><td></td><td>6</td><td>Int64</td></tr><tr><th>7</th><td>Missie</td><td>8.66667</td><td>8</td><td>9.0</td><td>9</td><td></td><td>7</td><td>Int64</td></tr><tr><th>8</th><td>Musk</td><td>6.0</td><td>2</td><td>6.0</td><td>10</td><td></td><td>5</td><td>Int64</td></tr><tr><th>9</th><td>Sam</td><td>9.5</td><td>9</td><td>9.5</td><td>10</td><td></td><td>8</td><td>Int64</td></tr></tbody></table>"
      ],
      "text/plain": [
       "9×8 DataFrame. Omitted printing of 3 columns\n",
       "│ Row │ variable    │ mean    │ min            │ median │ max             │\n",
       "│     │ \u001b[90mSymbol\u001b[39m      │ \u001b[90mUnion…\u001b[39m  │ \u001b[90mAny\u001b[39m            │ \u001b[90mUnion…\u001b[39m │ \u001b[90mAny\u001b[39m             │\n",
       "├─────┼─────────────┼─────────┼────────────────┼────────┼─────────────────┤\n",
       "│ 1   │ Movie title │         │ Arrival (2016) │        │ Zootopia (2016) │\n",
       "│ 2   │ Acton       │ 7.0     │ 3              │ 7.5    │ 10              │\n",
       "│ 3   │ Annie       │ 7.4     │ 3              │ 8.0    │ 10              │\n",
       "│ 4   │ Comey       │ 5.14286 │ 2              │ 5.0    │ 8               │\n",
       "│ 5   │ Dean        │ 7.375   │ 2              │ 8.5    │ 10              │\n",
       "│ 6   │ Kit         │ 9.75    │ 9              │ 10.0   │ 10              │\n",
       "│ 7   │ Missie      │ 8.66667 │ 8              │ 9.0    │ 9               │\n",
       "│ 8   │ Musk        │ 6.0     │ 2              │ 6.0    │ 10              │\n",
       "│ 9   │ Sam         │ 9.5     │ 9              │ 9.5    │ 10              │"
      ]
     },
     "execution_count": 11,
     "metadata": {},
     "output_type": "execute_result"
    }
   ],
   "source": [
    "describe(movies)"
   ]
  },
  {
   "cell_type": "code",
   "execution_count": 17,
   "metadata": {
    "inputHidden": false,
    "outputHidden": false
   },
   "outputs": [
    {
     "data": {
      "text/plain": [
       "missing"
      ]
     },
     "execution_count": 17,
     "metadata": {},
     "output_type": "execute_result"
    }
   ],
   "source": [
    "movies[1,2]"
   ]
  },
  {
   "cell_type": "code",
   "execution_count": 14,
   "metadata": {
    "inputHidden": false,
    "outputHidden": false
   },
   "outputs": [
    {
     "data": {
      "text/plain": [
       "true"
      ]
     },
     "execution_count": 14,
     "metadata": {},
     "output_type": "execute_result"
    }
   ],
   "source": [
    "ismissing(movies[1, 2])"
   ]
  },
  {
   "cell_type": "code",
   "execution_count": 44,
   "metadata": {
    "inputHidden": false,
    "outputHidden": false
   },
   "outputs": [],
   "source": [
    "for c in names(movies)[2:end]\n",
    "    movies[ismissing.(movies[c]), c] = 0\n",
    "end"
   ]
  },
  {
   "cell_type": "code",
   "execution_count": 45,
   "metadata": {
    "inputHidden": false,
    "outputHidden": false
   },
   "outputs": [
    {
     "data": {
      "text/html": [
       "<table class=\"data-frame\"><thead><tr><th></th><th>Movie title</th><th>Acton</th><th>Annie</th><th>Comey</th><th>Dean</th><th>Kit</th><th>Missie</th><th>Musk</th><th>Sam</th></tr><tr><th></th><th>String⍰</th><th>Int64⍰</th><th>Int64⍰</th><th>Int64⍰</th><th>Int64⍰</th><th>Int64⍰</th><th>Int64⍰</th><th>Int64⍰</th><th>Int64⍰</th></tr></thead><tbody><tr><th>1</th><td>Moonlight (2016)</td><td>0</td><td>3</td><td>0</td><td>10</td><td>0</td><td>9</td><td>2</td><td>0</td></tr><tr><th>2</th><td>Zootopia (2016)</td><td>9</td><td>10</td><td>7</td><td>0</td><td>10</td><td>0</td><td>5</td><td>0</td></tr><tr><th>3</th><td>Arrival (2016)</td><td>5</td><td>0</td><td>6</td><td>10</td><td>0</td><td>9</td><td>0</td><td>10</td></tr><tr><th>4</th><td>Hell or High Water (2016)</td><td>3</td><td>0</td><td>3</td><td>10</td><td>0</td><td>8</td><td>0</td><td>0</td></tr><tr><th>5</th><td>La La Land (2016)</td><td>6</td><td>0</td><td>8</td><td>9</td><td>0</td><td>0</td><td>10</td><td>0</td></tr><tr><th>6</th><td>The Jungle Book (2016)</td><td>8</td><td>7</td><td>0</td><td>2</td><td>9</td><td>0</td><td>6</td><td>0</td></tr><tr><th>7</th><td>Manchester by the Sea (2016)</td><td>0</td><td>0</td><td>2</td><td>8</td><td>0</td><td>0</td><td>0</td><td>0</td></tr><tr><th>8</th><td>Finding Dory (2016)</td><td>7</td><td>8</td><td>5</td><td>4</td><td>10</td><td>0</td><td>0</td><td>0</td></tr><tr><th>9</th><td>Captain America: Civil War (2016)</td><td>10</td><td>0</td><td>5</td><td>6</td><td>0</td><td>0</td><td>0</td><td>9</td></tr><tr><th>10</th><td>Moana (2016)</td><td>8</td><td>9</td><td>0</td><td>0</td><td>10</td><td>0</td><td>7</td><td>0</td></tr></tbody></table>"
      ],
      "text/plain": [
       "10×9 DataFrame. Omitted printing of 4 columns\n",
       "│ Row │ Movie title                       │ Acton  │ Annie  │ Comey  │ Dean   │\n",
       "│     │ \u001b[90mUnion{Missing, String}\u001b[39m            │ \u001b[90mInt64⍰\u001b[39m │ \u001b[90mInt64⍰\u001b[39m │ \u001b[90mInt64⍰\u001b[39m │ \u001b[90mInt64⍰\u001b[39m │\n",
       "├─────┼───────────────────────────────────┼────────┼────────┼────────┼────────┤\n",
       "│ 1   │ Moonlight (2016)                  │ 0      │ 3      │ 0      │ 10     │\n",
       "│ 2   │ Zootopia (2016)                   │ 9      │ 10     │ 7      │ 0      │\n",
       "│ 3   │ Arrival (2016)                    │ 5      │ 0      │ 6      │ 10     │\n",
       "│ 4   │ Hell or High Water (2016)         │ 3      │ 0      │ 3      │ 10     │\n",
       "│ 5   │ La La Land (2016)                 │ 6      │ 0      │ 8      │ 9      │\n",
       "│ 6   │ The Jungle Book (2016)            │ 8      │ 7      │ 0      │ 2      │\n",
       "│ 7   │ Manchester by the Sea (2016)      │ 0      │ 0      │ 2      │ 8      │\n",
       "│ 8   │ Finding Dory (2016)               │ 7      │ 8      │ 5      │ 4      │\n",
       "│ 9   │ Captain America: Civil War (2016) │ 10     │ 0      │ 5      │ 6      │\n",
       "│ 10  │ Moana (2016)                      │ 8      │ 9      │ 0      │ 0      │"
      ]
     },
     "execution_count": 45,
     "metadata": {},
     "output_type": "execute_result"
    }
   ],
   "source": [
    "movies"
   ]
  },
  {
   "cell_type": "code",
   "execution_count": 47,
   "metadata": {
    "inputHidden": false,
    "outputHidden": false
   },
   "outputs": [
    {
     "data": {
      "text/plain": [
       "\"top_10_movies_user_rankings.tsv\""
      ]
     },
     "execution_count": 47,
     "metadata": {},
     "output_type": "execute_result"
    }
   ],
   "source": [
    "CSV.write(\"top_10_movies_user_rankings.tsv\", movies, delim='\\t')"
   ]
  },
  {
   "cell_type": "code",
   "execution_count": 50,
   "metadata": {
    "inputHidden": false,
    "outputHidden": false
   },
   "outputs": [
    {
     "name": "stderr",
     "output_type": "stream",
     "text": [
      "┌ Warning: indexing with colon as row will create a copy in the future use df[col_inds] to get the columns without copying\n",
      "│   caller = top-level scope at In[50]:1\n",
      "└ @ Core In[50]:1\n"
     ]
    },
    {
     "data": {
      "text/html": [
       "<table class=\"data-frame\"><thead><tr><th></th><th>Movie title</th><th>Acton</th><th>Annie</th></tr><tr><th></th><th>String⍰</th><th>Int64⍰</th><th>Int64⍰</th></tr></thead><tbody><tr><th>1</th><td>Moonlight (2016)</td><td>0</td><td>3</td></tr><tr><th>2</th><td>Zootopia (2016)</td><td>9</td><td>10</td></tr><tr><th>3</th><td>Arrival (2016)</td><td>5</td><td>0</td></tr><tr><th>4</th><td>Hell or High Water (2016)</td><td>3</td><td>0</td></tr><tr><th>5</th><td>La La Land (2016)</td><td>6</td><td>0</td></tr><tr><th>6</th><td>The Jungle Book (2016)</td><td>8</td><td>7</td></tr><tr><th>7</th><td>Manchester by the Sea (2016)</td><td>0</td><td>0</td></tr><tr><th>8</th><td>Finding Dory (2016)</td><td>7</td><td>8</td></tr><tr><th>9</th><td>Captain America: Civil War (2016)</td><td>10</td><td>0</td></tr><tr><th>10</th><td>Moana (2016)</td><td>8</td><td>9</td></tr></tbody></table>"
      ],
      "text/plain": [
       "10×3 DataFrame\n",
       "│ Row │ Movie title                       │ Acton  │ Annie  │\n",
       "│     │ \u001b[90mUnion{Missing, String}\u001b[39m            │ \u001b[90mInt64⍰\u001b[39m │ \u001b[90mInt64⍰\u001b[39m │\n",
       "├─────┼───────────────────────────────────┼────────┼────────┤\n",
       "│ 1   │ Moonlight (2016)                  │ 0      │ 3      │\n",
       "│ 2   │ Zootopia (2016)                   │ 9      │ 10     │\n",
       "│ 3   │ Arrival (2016)                    │ 5      │ 0      │\n",
       "│ 4   │ Hell or High Water (2016)         │ 3      │ 0      │\n",
       "│ 5   │ La La Land (2016)                 │ 6      │ 0      │\n",
       "│ 6   │ The Jungle Book (2016)            │ 8      │ 7      │\n",
       "│ 7   │ Manchester by the Sea (2016)      │ 0      │ 0      │\n",
       "│ 8   │ Finding Dory (2016)               │ 7      │ 8      │\n",
       "│ 9   │ Captain America: Civil War (2016) │ 10     │ 0      │\n",
       "│ 10  │ Moana (2016)                      │ 8      │ 9      │"
      ]
     },
     "execution_count": 50,
     "metadata": {},
     "output_type": "execute_result"
    }
   ],
   "source": [
    "acton_and_annie = movies[:, 1:3]"
   ]
  },
  {
   "cell_type": "code",
   "execution_count": 51,
   "metadata": {
    "inputHidden": false,
    "outputHidden": false
   },
   "outputs": [
    {
     "data": {
      "text/html": [
       "<table class=\"data-frame\"><thead><tr><th></th><th>Movie title</th><th>Acton</th><th>Annie</th></tr><tr><th></th><th>String⍰</th><th>Int64⍰</th><th>Int64⍰</th></tr></thead><tbody><tr><th>1</th><td>Zootopia (2016)</td><td>9</td><td>10</td></tr><tr><th>2</th><td>The Jungle Book (2016)</td><td>8</td><td>7</td></tr><tr><th>3</th><td>Finding Dory (2016)</td><td>7</td><td>8</td></tr><tr><th>4</th><td>Moana (2016)</td><td>8</td><td>9</td></tr></tbody></table>"
      ],
      "text/plain": [
       "4×3 DataFrame\n",
       "│ Row │ Movie title            │ Acton  │ Annie  │\n",
       "│     │ \u001b[90mUnion{Missing, String}\u001b[39m │ \u001b[90mInt64⍰\u001b[39m │ \u001b[90mInt64⍰\u001b[39m │\n",
       "├─────┼────────────────────────┼────────┼────────┤\n",
       "│ 1   │ Zootopia (2016)        │ 9      │ 10     │\n",
       "│ 2   │ The Jungle Book (2016) │ 8      │ 7      │\n",
       "│ 3   │ Finding Dory (2016)    │ 7      │ 8      │\n",
       "│ 4   │ Moana (2016)           │ 8      │ 9      │"
      ]
     },
     "execution_count": 51,
     "metadata": {},
     "output_type": "execute_result"
    }
   ],
   "source": [
    "acton_and_annie_in_common = acton_and_annie[(acton_and_annie[:Acton] .> 0) .& (acton_and_annie[:Annie] .> 0), :]"
   ]
  },
  {
   "cell_type": "code",
   "execution_count": 52,
   "metadata": {
    "inputHidden": false,
    "outputHidden": false
   },
   "outputs": [
    {
     "data": {
      "text/plain": [
       "10-element BitArray{1}:\n",
       " false\n",
       "  true\n",
       "  true\n",
       "  true\n",
       "  true\n",
       "  true\n",
       " false\n",
       "  true\n",
       "  true\n",
       "  true"
      ]
     },
     "execution_count": 52,
     "metadata": {},
     "output_type": "execute_result"
    }
   ],
   "source": [
    "acton_and_annie[:Acton] .> 0"
   ]
  },
  {
   "cell_type": "code",
   "execution_count": 53,
   "metadata": {
    "inputHidden": false,
    "outputHidden": false
   },
   "outputs": [
    {
     "data": {
      "text/plain": [
       "10-element BitArray{1}:\n",
       "  true\n",
       "  true\n",
       " false\n",
       " false\n",
       " false\n",
       "  true\n",
       " false\n",
       "  true\n",
       " false\n",
       "  true"
      ]
     },
     "execution_count": 53,
     "metadata": {},
     "output_type": "execute_result"
    }
   ],
   "source": [
    "acton_and_annie[:Annie] .> 0"
   ]
  },
  {
   "cell_type": "code",
   "execution_count": 55,
   "metadata": {
    "inputHidden": false,
    "outputHidden": false
   },
   "outputs": [
    {
     "data": {
      "text/plain": [
       "10-element BitArray{1}:\n",
       " false\n",
       "  true\n",
       " false\n",
       " false\n",
       " false\n",
       "  true\n",
       " false\n",
       "  true\n",
       " false\n",
       "  true"
      ]
     },
     "execution_count": 55,
     "metadata": {},
     "output_type": "execute_result"
    }
   ],
   "source": [
    "(acton_and_annie[:Acton] .> 0) .& (acton_and_annie[:Annie] .> 0)"
   ]
  },
  {
   "cell_type": "code",
   "execution_count": 56,
   "metadata": {
    "inputHidden": false,
    "outputHidden": false
   },
   "outputs": [
    {
     "name": "stdout",
     "output_type": "stream",
     "text": [
      "\u001b[32m\u001b[1m Resolving\u001b[22m\u001b[39m package versions...\n",
      "\u001b[32m\u001b[1m Installed\u001b[22m\u001b[39m PlotThemes ── v0.3.0\n",
      "\u001b[32m\u001b[1m Installed\u001b[22m\u001b[39m RecipesBase ─ v0.6.0\n",
      "\u001b[32m\u001b[1m Installed\u001b[22m\u001b[39m Plots ─────── v0.21.0\n",
      "\u001b[32m\u001b[1m Installed\u001b[22m\u001b[39m PlotUtils ─── v0.5.5\n",
      "\u001b[32m\u001b[1m Installed\u001b[22m\u001b[39m GR ────────── v0.35.0\n",
      "\u001b[32m\u001b[1m  Updating\u001b[22m\u001b[39m `~/.julia/environments/v1.0/Project.toml`\n",
      " \u001b[90m [91a5bcdd]\u001b[39m\u001b[92m + Plots v0.21.0\u001b[39m\n",
      "\u001b[32m\u001b[1m  Updating\u001b[22m\u001b[39m `~/.julia/environments/v1.0/Manifest.toml`\n",
      " \u001b[90m [28b8d3ca]\u001b[39m\u001b[92m + GR v0.35.0\u001b[39m\n",
      " \u001b[90m [ccf2f8ad]\u001b[39m\u001b[92m + PlotThemes v0.3.0\u001b[39m\n",
      " \u001b[90m [995b91a9]\u001b[39m\u001b[92m + PlotUtils v0.5.5\u001b[39m\n",
      " \u001b[90m [91a5bcdd]\u001b[39m\u001b[92m + Plots v0.21.0\u001b[39m\n",
      " \u001b[90m [3cdcf5f2]\u001b[39m\u001b[92m + RecipesBase v0.6.0\u001b[39m\n",
      "\u001b[32m\u001b[1m  Building\u001b[22m\u001b[39m GR ───→ `~/.julia/packages/GR/k8wwU/deps/build.log`\n",
      "\u001b[32m\u001b[1m  Building\u001b[22m\u001b[39m Plots → `~/.julia/packages/Plots/rmogG/deps/build.log`\n"
     ]
    },
    {
     "name": "stderr",
     "output_type": "stream",
     "text": [
      "┌ Info: Precompiling Plots [91a5bcdd-55d7-5caf-9e0b-520d859cae80]\n",
      "└ @ Base loading.jl:1189\n"
     ]
    }
   ],
   "source": [
    "pkg\"add Plots\"\n",
    "using Plots"
   ]
  },
  {
   "cell_type": "code",
   "execution_count": 59,
   "metadata": {
    "inputHidden": false,
    "outputHidden": false
   },
   "outputs": [
    {
     "name": "stderr",
     "output_type": "stream",
     "text": [
      "┌ Warning: indexing with colon as row will create a copy in the future use df[col_inds] to get the columns without copying\n",
      "│   caller = top-level scope at In[59]:1\n",
      "└ @ Core In[59]:1\n",
      "┌ Warning: indexing with colon as row will create a copy in the future use df[col_inds] to get the columns without copying\n",
      "│   caller = top-level scope at In[59]:1\n",
      "└ @ Core In[59]:1\n"
     ]
    },
    {
     "data": {
      "image/svg+xml": [
       "<?xml version=\"1.0\" encoding=\"utf-8\"?>\n",
       "<svg xmlns=\"http://www.w3.org/2000/svg\" xmlns:xlink=\"http://www.w3.org/1999/xlink\" width=\"600\" height=\"400\" viewBox=\"0 0 2400 1600\">\n",
       "<defs>\n",
       "  <clipPath id=\"clip9000\">\n",
       "    <rect x=\"0\" y=\"0\" width=\"2000\" height=\"2000\"/>\n",
       "  </clipPath>\n",
       "</defs>\n",
       "<defs>\n",
       "  <clipPath id=\"clip9001\">\n",
       "    <rect x=\"0\" y=\"0\" width=\"2400\" height=\"1600\"/>\n",
       "  </clipPath>\n",
       "</defs>\n",
       "<polygon clip-path=\"url(#clip9001)\" points=\"\n",
       "0,1600 2400,1600 2400,0 0,0 \n",
       "  \" fill=\"#ffffff\" fill-opacity=\"1\"/>\n",
       "<defs>\n",
       "  <clipPath id=\"clip9002\">\n",
       "    <rect x=\"480\" y=\"0\" width=\"1681\" height=\"1600\"/>\n",
       "  </clipPath>\n",
       "</defs>\n",
       "<polygon clip-path=\"url(#clip9001)\" points=\"\n",
       "148.013,1503.47 2321.26,1503.47 2321.26,47.2441 148.013,47.2441 \n",
       "  \" fill=\"#ffffff\" fill-opacity=\"1\"/>\n",
       "<defs>\n",
       "  <clipPath id=\"clip9003\">\n",
       "    <rect x=\"148\" y=\"47\" width=\"2174\" height=\"1457\"/>\n",
       "  </clipPath>\n",
       "</defs>\n",
       "<polyline clip-path=\"url(#clip9003)\" style=\"stroke:#000000; stroke-width:2; stroke-opacity:0.1; fill:none\" points=\"\n",
       "  148.013,1503.47 148.013,47.2441 \n",
       "  \"/>\n",
       "<polyline clip-path=\"url(#clip9003)\" style=\"stroke:#000000; stroke-width:2; stroke-opacity:0.1; fill:none\" points=\"\n",
       "  345.581,1503.47 345.581,47.2441 \n",
       "  \"/>\n",
       "<polyline clip-path=\"url(#clip9003)\" style=\"stroke:#000000; stroke-width:2; stroke-opacity:0.1; fill:none\" points=\"\n",
       "  543.149,1503.47 543.149,47.2441 \n",
       "  \"/>\n",
       "<polyline clip-path=\"url(#clip9003)\" style=\"stroke:#000000; stroke-width:2; stroke-opacity:0.1; fill:none\" points=\"\n",
       "  740.717,1503.47 740.717,47.2441 \n",
       "  \"/>\n",
       "<polyline clip-path=\"url(#clip9003)\" style=\"stroke:#000000; stroke-width:2; stroke-opacity:0.1; fill:none\" points=\"\n",
       "  938.284,1503.47 938.284,47.2441 \n",
       "  \"/>\n",
       "<polyline clip-path=\"url(#clip9003)\" style=\"stroke:#000000; stroke-width:2; stroke-opacity:0.1; fill:none\" points=\"\n",
       "  1135.85,1503.47 1135.85,47.2441 \n",
       "  \"/>\n",
       "<polyline clip-path=\"url(#clip9003)\" style=\"stroke:#000000; stroke-width:2; stroke-opacity:0.1; fill:none\" points=\"\n",
       "  1333.42,1503.47 1333.42,47.2441 \n",
       "  \"/>\n",
       "<polyline clip-path=\"url(#clip9003)\" style=\"stroke:#000000; stroke-width:2; stroke-opacity:0.1; fill:none\" points=\"\n",
       "  1530.99,1503.47 1530.99,47.2441 \n",
       "  \"/>\n",
       "<polyline clip-path=\"url(#clip9003)\" style=\"stroke:#000000; stroke-width:2; stroke-opacity:0.1; fill:none\" points=\"\n",
       "  1728.56,1503.47 1728.56,47.2441 \n",
       "  \"/>\n",
       "<polyline clip-path=\"url(#clip9003)\" style=\"stroke:#000000; stroke-width:2; stroke-opacity:0.1; fill:none\" points=\"\n",
       "  1926.12,1503.47 1926.12,47.2441 \n",
       "  \"/>\n",
       "<polyline clip-path=\"url(#clip9003)\" style=\"stroke:#000000; stroke-width:2; stroke-opacity:0.1; fill:none\" points=\"\n",
       "  2123.69,1503.47 2123.69,47.2441 \n",
       "  \"/>\n",
       "<polyline clip-path=\"url(#clip9003)\" style=\"stroke:#000000; stroke-width:2; stroke-opacity:0.1; fill:none\" points=\"\n",
       "  148.013,1503.47 2321.26,1503.47 \n",
       "  \"/>\n",
       "<polyline clip-path=\"url(#clip9003)\" style=\"stroke:#000000; stroke-width:2; stroke-opacity:0.1; fill:none\" points=\"\n",
       "  148.013,1371.09 2321.26,1371.09 \n",
       "  \"/>\n",
       "<polyline clip-path=\"url(#clip9003)\" style=\"stroke:#000000; stroke-width:2; stroke-opacity:0.1; fill:none\" points=\"\n",
       "  148.013,1238.71 2321.26,1238.71 \n",
       "  \"/>\n",
       "<polyline clip-path=\"url(#clip9003)\" style=\"stroke:#000000; stroke-width:2; stroke-opacity:0.1; fill:none\" points=\"\n",
       "  148.013,1106.32 2321.26,1106.32 \n",
       "  \"/>\n",
       "<polyline clip-path=\"url(#clip9003)\" style=\"stroke:#000000; stroke-width:2; stroke-opacity:0.1; fill:none\" points=\"\n",
       "  148.013,973.936 2321.26,973.936 \n",
       "  \"/>\n",
       "<polyline clip-path=\"url(#clip9003)\" style=\"stroke:#000000; stroke-width:2; stroke-opacity:0.1; fill:none\" points=\"\n",
       "  148.013,841.552 2321.26,841.552 \n",
       "  \"/>\n",
       "<polyline clip-path=\"url(#clip9003)\" style=\"stroke:#000000; stroke-width:2; stroke-opacity:0.1; fill:none\" points=\"\n",
       "  148.013,709.167 2321.26,709.167 \n",
       "  \"/>\n",
       "<polyline clip-path=\"url(#clip9003)\" style=\"stroke:#000000; stroke-width:2; stroke-opacity:0.1; fill:none\" points=\"\n",
       "  148.013,576.783 2321.26,576.783 \n",
       "  \"/>\n",
       "<polyline clip-path=\"url(#clip9003)\" style=\"stroke:#000000; stroke-width:2; stroke-opacity:0.1; fill:none\" points=\"\n",
       "  148.013,444.398 2321.26,444.398 \n",
       "  \"/>\n",
       "<polyline clip-path=\"url(#clip9003)\" style=\"stroke:#000000; stroke-width:2; stroke-opacity:0.1; fill:none\" points=\"\n",
       "  148.013,312.013 2321.26,312.013 \n",
       "  \"/>\n",
       "<polyline clip-path=\"url(#clip9003)\" style=\"stroke:#000000; stroke-width:2; stroke-opacity:0.1; fill:none\" points=\"\n",
       "  148.013,179.629 2321.26,179.629 \n",
       "  \"/>\n",
       "<polyline clip-path=\"url(#clip9001)\" style=\"stroke:#000000; stroke-width:4; stroke-opacity:1; fill:none\" points=\"\n",
       "  148.013,1503.47 2321.26,1503.47 \n",
       "  \"/>\n",
       "<polyline clip-path=\"url(#clip9001)\" style=\"stroke:#000000; stroke-width:4; stroke-opacity:1; fill:none\" points=\"\n",
       "  148.013,1503.47 148.013,47.2441 \n",
       "  \"/>\n",
       "<polyline clip-path=\"url(#clip9001)\" style=\"stroke:#000000; stroke-width:4; stroke-opacity:1; fill:none\" points=\"\n",
       "  148.013,1503.47 148.013,1481.63 \n",
       "  \"/>\n",
       "<polyline clip-path=\"url(#clip9001)\" style=\"stroke:#000000; stroke-width:4; stroke-opacity:1; fill:none\" points=\"\n",
       "  345.581,1503.47 345.581,1481.63 \n",
       "  \"/>\n",
       "<polyline clip-path=\"url(#clip9001)\" style=\"stroke:#000000; stroke-width:4; stroke-opacity:1; fill:none\" points=\"\n",
       "  543.149,1503.47 543.149,1481.63 \n",
       "  \"/>\n",
       "<polyline clip-path=\"url(#clip9001)\" style=\"stroke:#000000; stroke-width:4; stroke-opacity:1; fill:none\" points=\"\n",
       "  740.717,1503.47 740.717,1481.63 \n",
       "  \"/>\n",
       "<polyline clip-path=\"url(#clip9001)\" style=\"stroke:#000000; stroke-width:4; stroke-opacity:1; fill:none\" points=\"\n",
       "  938.284,1503.47 938.284,1481.63 \n",
       "  \"/>\n",
       "<polyline clip-path=\"url(#clip9001)\" style=\"stroke:#000000; stroke-width:4; stroke-opacity:1; fill:none\" points=\"\n",
       "  1135.85,1503.47 1135.85,1481.63 \n",
       "  \"/>\n",
       "<polyline clip-path=\"url(#clip9001)\" style=\"stroke:#000000; stroke-width:4; stroke-opacity:1; fill:none\" points=\"\n",
       "  1333.42,1503.47 1333.42,1481.63 \n",
       "  \"/>\n",
       "<polyline clip-path=\"url(#clip9001)\" style=\"stroke:#000000; stroke-width:4; stroke-opacity:1; fill:none\" points=\"\n",
       "  1530.99,1503.47 1530.99,1481.63 \n",
       "  \"/>\n",
       "<polyline clip-path=\"url(#clip9001)\" style=\"stroke:#000000; stroke-width:4; stroke-opacity:1; fill:none\" points=\"\n",
       "  1728.56,1503.47 1728.56,1481.63 \n",
       "  \"/>\n",
       "<polyline clip-path=\"url(#clip9001)\" style=\"stroke:#000000; stroke-width:4; stroke-opacity:1; fill:none\" points=\"\n",
       "  1926.12,1503.47 1926.12,1481.63 \n",
       "  \"/>\n",
       "<polyline clip-path=\"url(#clip9001)\" style=\"stroke:#000000; stroke-width:4; stroke-opacity:1; fill:none\" points=\"\n",
       "  2123.69,1503.47 2123.69,1481.63 \n",
       "  \"/>\n",
       "<polyline clip-path=\"url(#clip9001)\" style=\"stroke:#000000; stroke-width:4; stroke-opacity:1; fill:none\" points=\"\n",
       "  148.013,1503.47 180.612,1503.47 \n",
       "  \"/>\n",
       "<polyline clip-path=\"url(#clip9001)\" style=\"stroke:#000000; stroke-width:4; stroke-opacity:1; fill:none\" points=\"\n",
       "  148.013,1371.09 180.612,1371.09 \n",
       "  \"/>\n",
       "<polyline clip-path=\"url(#clip9001)\" style=\"stroke:#000000; stroke-width:4; stroke-opacity:1; fill:none\" points=\"\n",
       "  148.013,1238.71 180.612,1238.71 \n",
       "  \"/>\n",
       "<polyline clip-path=\"url(#clip9001)\" style=\"stroke:#000000; stroke-width:4; stroke-opacity:1; fill:none\" points=\"\n",
       "  148.013,1106.32 180.612,1106.32 \n",
       "  \"/>\n",
       "<polyline clip-path=\"url(#clip9001)\" style=\"stroke:#000000; stroke-width:4; stroke-opacity:1; fill:none\" points=\"\n",
       "  148.013,973.936 180.612,973.936 \n",
       "  \"/>\n",
       "<polyline clip-path=\"url(#clip9001)\" style=\"stroke:#000000; stroke-width:4; stroke-opacity:1; fill:none\" points=\"\n",
       "  148.013,841.552 180.612,841.552 \n",
       "  \"/>\n",
       "<polyline clip-path=\"url(#clip9001)\" style=\"stroke:#000000; stroke-width:4; stroke-opacity:1; fill:none\" points=\"\n",
       "  148.013,709.167 180.612,709.167 \n",
       "  \"/>\n",
       "<polyline clip-path=\"url(#clip9001)\" style=\"stroke:#000000; stroke-width:4; stroke-opacity:1; fill:none\" points=\"\n",
       "  148.013,576.783 180.612,576.783 \n",
       "  \"/>\n",
       "<polyline clip-path=\"url(#clip9001)\" style=\"stroke:#000000; stroke-width:4; stroke-opacity:1; fill:none\" points=\"\n",
       "  148.013,444.398 180.612,444.398 \n",
       "  \"/>\n",
       "<polyline clip-path=\"url(#clip9001)\" style=\"stroke:#000000; stroke-width:4; stroke-opacity:1; fill:none\" points=\"\n",
       "  148.013,312.013 180.612,312.013 \n",
       "  \"/>\n",
       "<polyline clip-path=\"url(#clip9001)\" style=\"stroke:#000000; stroke-width:4; stroke-opacity:1; fill:none\" points=\"\n",
       "  148.013,179.629 180.612,179.629 \n",
       "  \"/>\n",
       "<g clip-path=\"url(#clip9001)\">\n",
       "<text style=\"fill:#000000; fill-opacity:1; font-family:Arial,Helvetica Neue,Helvetica,sans-serif; font-size:48px; text-anchor:middle;\" transform=\"rotate(0, 148.013, 1557.47)\" x=\"148.013\" y=\"1557.47\">0</text>\n",
       "</g>\n",
       "<g clip-path=\"url(#clip9001)\">\n",
       "<text style=\"fill:#000000; fill-opacity:1; font-family:Arial,Helvetica Neue,Helvetica,sans-serif; font-size:48px; text-anchor:middle;\" transform=\"rotate(0, 345.581, 1557.47)\" x=\"345.581\" y=\"1557.47\">1</text>\n",
       "</g>\n",
       "<g clip-path=\"url(#clip9001)\">\n",
       "<text style=\"fill:#000000; fill-opacity:1; font-family:Arial,Helvetica Neue,Helvetica,sans-serif; font-size:48px; text-anchor:middle;\" transform=\"rotate(0, 543.149, 1557.47)\" x=\"543.149\" y=\"1557.47\">2</text>\n",
       "</g>\n",
       "<g clip-path=\"url(#clip9001)\">\n",
       "<text style=\"fill:#000000; fill-opacity:1; font-family:Arial,Helvetica Neue,Helvetica,sans-serif; font-size:48px; text-anchor:middle;\" transform=\"rotate(0, 740.717, 1557.47)\" x=\"740.717\" y=\"1557.47\">3</text>\n",
       "</g>\n",
       "<g clip-path=\"url(#clip9001)\">\n",
       "<text style=\"fill:#000000; fill-opacity:1; font-family:Arial,Helvetica Neue,Helvetica,sans-serif; font-size:48px; text-anchor:middle;\" transform=\"rotate(0, 938.284, 1557.47)\" x=\"938.284\" y=\"1557.47\">4</text>\n",
       "</g>\n",
       "<g clip-path=\"url(#clip9001)\">\n",
       "<text style=\"fill:#000000; fill-opacity:1; font-family:Arial,Helvetica Neue,Helvetica,sans-serif; font-size:48px; text-anchor:middle;\" transform=\"rotate(0, 1135.85, 1557.47)\" x=\"1135.85\" y=\"1557.47\">5</text>\n",
       "</g>\n",
       "<g clip-path=\"url(#clip9001)\">\n",
       "<text style=\"fill:#000000; fill-opacity:1; font-family:Arial,Helvetica Neue,Helvetica,sans-serif; font-size:48px; text-anchor:middle;\" transform=\"rotate(0, 1333.42, 1557.47)\" x=\"1333.42\" y=\"1557.47\">6</text>\n",
       "</g>\n",
       "<g clip-path=\"url(#clip9001)\">\n",
       "<text style=\"fill:#000000; fill-opacity:1; font-family:Arial,Helvetica Neue,Helvetica,sans-serif; font-size:48px; text-anchor:middle;\" transform=\"rotate(0, 1530.99, 1557.47)\" x=\"1530.99\" y=\"1557.47\">7</text>\n",
       "</g>\n",
       "<g clip-path=\"url(#clip9001)\">\n",
       "<text style=\"fill:#000000; fill-opacity:1; font-family:Arial,Helvetica Neue,Helvetica,sans-serif; font-size:48px; text-anchor:middle;\" transform=\"rotate(0, 1728.56, 1557.47)\" x=\"1728.56\" y=\"1557.47\">8</text>\n",
       "</g>\n",
       "<g clip-path=\"url(#clip9001)\">\n",
       "<text style=\"fill:#000000; fill-opacity:1; font-family:Arial,Helvetica Neue,Helvetica,sans-serif; font-size:48px; text-anchor:middle;\" transform=\"rotate(0, 1926.12, 1557.47)\" x=\"1926.12\" y=\"1557.47\">9</text>\n",
       "</g>\n",
       "<g clip-path=\"url(#clip9001)\">\n",
       "<text style=\"fill:#000000; fill-opacity:1; font-family:Arial,Helvetica Neue,Helvetica,sans-serif; font-size:48px; text-anchor:middle;\" transform=\"rotate(0, 2123.69, 1557.47)\" x=\"2123.69\" y=\"1557.47\">10</text>\n",
       "</g>\n",
       "<g clip-path=\"url(#clip9001)\">\n",
       "<text style=\"fill:#000000; fill-opacity:1; font-family:Arial,Helvetica Neue,Helvetica,sans-serif; font-size:48px; text-anchor:end;\" transform=\"rotate(0, 124.013, 1520.97)\" x=\"124.013\" y=\"1520.97\">0</text>\n",
       "</g>\n",
       "<g clip-path=\"url(#clip9001)\">\n",
       "<text style=\"fill:#000000; fill-opacity:1; font-family:Arial,Helvetica Neue,Helvetica,sans-serif; font-size:48px; text-anchor:end;\" transform=\"rotate(0, 124.013, 1388.59)\" x=\"124.013\" y=\"1388.59\">1</text>\n",
       "</g>\n",
       "<g clip-path=\"url(#clip9001)\">\n",
       "<text style=\"fill:#000000; fill-opacity:1; font-family:Arial,Helvetica Neue,Helvetica,sans-serif; font-size:48px; text-anchor:end;\" transform=\"rotate(0, 124.013, 1256.21)\" x=\"124.013\" y=\"1256.21\">2</text>\n",
       "</g>\n",
       "<g clip-path=\"url(#clip9001)\">\n",
       "<text style=\"fill:#000000; fill-opacity:1; font-family:Arial,Helvetica Neue,Helvetica,sans-serif; font-size:48px; text-anchor:end;\" transform=\"rotate(0, 124.013, 1123.82)\" x=\"124.013\" y=\"1123.82\">3</text>\n",
       "</g>\n",
       "<g clip-path=\"url(#clip9001)\">\n",
       "<text style=\"fill:#000000; fill-opacity:1; font-family:Arial,Helvetica Neue,Helvetica,sans-serif; font-size:48px; text-anchor:end;\" transform=\"rotate(0, 124.013, 991.436)\" x=\"124.013\" y=\"991.436\">4</text>\n",
       "</g>\n",
       "<g clip-path=\"url(#clip9001)\">\n",
       "<text style=\"fill:#000000; fill-opacity:1; font-family:Arial,Helvetica Neue,Helvetica,sans-serif; font-size:48px; text-anchor:end;\" transform=\"rotate(0, 124.013, 859.052)\" x=\"124.013\" y=\"859.052\">5</text>\n",
       "</g>\n",
       "<g clip-path=\"url(#clip9001)\">\n",
       "<text style=\"fill:#000000; fill-opacity:1; font-family:Arial,Helvetica Neue,Helvetica,sans-serif; font-size:48px; text-anchor:end;\" transform=\"rotate(0, 124.013, 726.667)\" x=\"124.013\" y=\"726.667\">6</text>\n",
       "</g>\n",
       "<g clip-path=\"url(#clip9001)\">\n",
       "<text style=\"fill:#000000; fill-opacity:1; font-family:Arial,Helvetica Neue,Helvetica,sans-serif; font-size:48px; text-anchor:end;\" transform=\"rotate(0, 124.013, 594.283)\" x=\"124.013\" y=\"594.283\">7</text>\n",
       "</g>\n",
       "<g clip-path=\"url(#clip9001)\">\n",
       "<text style=\"fill:#000000; fill-opacity:1; font-family:Arial,Helvetica Neue,Helvetica,sans-serif; font-size:48px; text-anchor:end;\" transform=\"rotate(0, 124.013, 461.898)\" x=\"124.013\" y=\"461.898\">8</text>\n",
       "</g>\n",
       "<g clip-path=\"url(#clip9001)\">\n",
       "<text style=\"fill:#000000; fill-opacity:1; font-family:Arial,Helvetica Neue,Helvetica,sans-serif; font-size:48px; text-anchor:end;\" transform=\"rotate(0, 124.013, 329.513)\" x=\"124.013\" y=\"329.513\">9</text>\n",
       "</g>\n",
       "<g clip-path=\"url(#clip9001)\">\n",
       "<text style=\"fill:#000000; fill-opacity:1; font-family:Arial,Helvetica Neue,Helvetica,sans-serif; font-size:48px; text-anchor:end;\" transform=\"rotate(0, 124.013, 197.129)\" x=\"124.013\" y=\"197.129\">10</text>\n",
       "</g>\n",
       "<circle clip-path=\"url(#clip9003)\" style=\"fill:#000000; stroke:none; fill-opacity:1\" cx=\"1926.12\" cy=\"179.629\" r=\"18\"/>\n",
       "<circle clip-path=\"url(#clip9003)\" style=\"fill:#009af9; stroke:none; fill-opacity:1\" cx=\"1926.12\" cy=\"179.629\" r=\"14\"/>\n",
       "<circle clip-path=\"url(#clip9003)\" style=\"fill:#000000; stroke:none; fill-opacity:1\" cx=\"1728.56\" cy=\"576.783\" r=\"18\"/>\n",
       "<circle clip-path=\"url(#clip9003)\" style=\"fill:#009af9; stroke:none; fill-opacity:1\" cx=\"1728.56\" cy=\"576.783\" r=\"14\"/>\n",
       "<circle clip-path=\"url(#clip9003)\" style=\"fill:#000000; stroke:none; fill-opacity:1\" cx=\"1530.99\" cy=\"444.398\" r=\"18\"/>\n",
       "<circle clip-path=\"url(#clip9003)\" style=\"fill:#009af9; stroke:none; fill-opacity:1\" cx=\"1530.99\" cy=\"444.398\" r=\"14\"/>\n",
       "<circle clip-path=\"url(#clip9003)\" style=\"fill:#000000; stroke:none; fill-opacity:1\" cx=\"1728.56\" cy=\"312.013\" r=\"18\"/>\n",
       "<circle clip-path=\"url(#clip9003)\" style=\"fill:#009af9; stroke:none; fill-opacity:1\" cx=\"1728.56\" cy=\"312.013\" r=\"14\"/>\n",
       "</svg>\n"
      ]
     },
     "execution_count": 59,
     "metadata": {},
     "output_type": "execute_result"
    }
   ],
   "source": [
    "plot(acton_and_annie_in_common[:,2], acton_and_annie_in_common[:,3], seriestype=:scatter, xticks=0:10, yticks=0:10, lims=(0,11), label=\"\")"
   ]
  },
  {
   "cell_type": "code",
   "execution_count": 60,
   "metadata": {
    "inputHidden": false,
    "outputHidden": false
   },
   "outputs": [
    {
     "name": "stdout",
     "output_type": "stream",
     "text": [
      "\u001b[32m\u001b[1m Resolving\u001b[22m\u001b[39m package versions...\n",
      "\u001b[32m\u001b[1m Installed\u001b[22m\u001b[39m StatPlots ──────── v0.8.1\n",
      "\u001b[32m\u001b[1m Installed\u001b[22m\u001b[39m NearestNeighbors ─ v0.4.2\n",
      "\u001b[32m\u001b[1m Installed\u001b[22m\u001b[39m Clustering ─────── v0.12.1\n",
      "\u001b[32m\u001b[1m  Updating\u001b[22m\u001b[39m `~/.julia/environments/v1.0/Project.toml`\n",
      " \u001b[90m [60ddc479]\u001b[39m\u001b[92m + StatPlots v0.8.1\u001b[39m\n",
      "\u001b[32m\u001b[1m  Updating\u001b[22m\u001b[39m `~/.julia/environments/v1.0/Manifest.toml`\n",
      " \u001b[90m [aaaa29a8]\u001b[39m\u001b[92m + Clustering v0.12.1\u001b[39m\n",
      " \u001b[90m [e7dc6d0d]\u001b[39m\u001b[92m + DataValues v0.4.5\u001b[39m\n",
      " \u001b[90m [1c8ee90f]\u001b[39m\u001b[92m + IterableTables v0.9.0\u001b[39m\n",
      " \u001b[90m [b8a86587]\u001b[39m\u001b[92m + NearestNeighbors v0.4.2\u001b[39m\n",
      " \u001b[90m [60ddc479]\u001b[39m\u001b[92m + StatPlots v0.8.1\u001b[39m\n",
      " \u001b[90m [382cd787]\u001b[39m\u001b[92m + TableTraitsUtils v0.3.1\u001b[39m\n"
     ]
    },
    {
     "name": "stderr",
     "output_type": "stream",
     "text": [
      "┌ Info: Precompiling StatPlots [60ddc479-9b66-56df-82fc-76a74619b69c]\n",
      "└ @ Base loading.jl:1189\n",
      "┌ Info: Recompiling stale cache file /Users/adrian/.julia/compiled/v1.0/Distributions/xILW0.ji for Distributions [31c24e10-a181-5473-b8eb-7969acd0382f]\n",
      "└ @ Base loading.jl:1187\n",
      "┌ Info: Precompiling Widgets [cc8bc4a8-27d6-5769-a93b-9d913e69aa62]\n",
      "└ @ Base loading.jl:1189\n",
      "┌ Info: Precompiling Clustering [aaaa29a8-35af-508c-8bc3-b662a17a0fe5]\n",
      "└ @ Base loading.jl:1189\n",
      "┌ Info: Recompiling stale cache file /Users/adrian/.julia/compiled/v1.0/KernelDensity/4QyGx.ji for KernelDensity [5ab0869b-81aa-558d-bb23-cbf5423bbe9b]\n",
      "└ @ Base loading.jl:1187\n"
     ]
    }
   ],
   "source": [
    "pkg\"add StatPlots\"\n",
    "using StatPlots"
   ]
  },
  {
   "cell_type": "code",
   "execution_count": 61,
   "metadata": {
    "inputHidden": false,
    "outputHidden": false
   },
   "outputs": [
    {
     "data": {
      "image/svg+xml": [
       "<?xml version=\"1.0\" encoding=\"utf-8\"?>\n",
       "<svg xmlns=\"http://www.w3.org/2000/svg\" xmlns:xlink=\"http://www.w3.org/1999/xlink\" width=\"600\" height=\"400\" viewBox=\"0 0 2400 1600\">\n",
       "<defs>\n",
       "  <clipPath id=\"clip9200\">\n",
       "    <rect x=\"0\" y=\"0\" width=\"2000\" height=\"2000\"/>\n",
       "  </clipPath>\n",
       "</defs>\n",
       "<defs>\n",
       "  <clipPath id=\"clip9201\">\n",
       "    <rect x=\"0\" y=\"0\" width=\"2400\" height=\"1600\"/>\n",
       "  </clipPath>\n",
       "</defs>\n",
       "<polygon clip-path=\"url(#clip9201)\" points=\"\n",
       "0,1600 2400,1600 2400,0 0,0 \n",
       "  \" fill=\"#ffffff\" fill-opacity=\"1\"/>\n",
       "<defs>\n",
       "  <clipPath id=\"clip9202\">\n",
       "    <rect x=\"480\" y=\"0\" width=\"1681\" height=\"1600\"/>\n",
       "  </clipPath>\n",
       "</defs>\n",
       "<polygon clip-path=\"url(#clip9201)\" points=\"\n",
       "148.013,1503.47 2321.26,1503.47 2321.26,125.984 148.013,125.984 \n",
       "  \" fill=\"#ffffff\" fill-opacity=\"1\"/>\n",
       "<defs>\n",
       "  <clipPath id=\"clip9203\">\n",
       "    <rect x=\"148\" y=\"125\" width=\"2174\" height=\"1378\"/>\n",
       "  </clipPath>\n",
       "</defs>\n",
       "<polyline clip-path=\"url(#clip9203)\" style=\"stroke:#000000; stroke-width:2; stroke-opacity:0.1; fill:none\" points=\"\n",
       "  148.013,1503.47 148.013,125.984 \n",
       "  \"/>\n",
       "<polyline clip-path=\"url(#clip9203)\" style=\"stroke:#000000; stroke-width:2; stroke-opacity:0.1; fill:none\" points=\"\n",
       "  510.221,1503.47 510.221,125.984 \n",
       "  \"/>\n",
       "<polyline clip-path=\"url(#clip9203)\" style=\"stroke:#000000; stroke-width:2; stroke-opacity:0.1; fill:none\" points=\"\n",
       "  872.429,1503.47 872.429,125.984 \n",
       "  \"/>\n",
       "<polyline clip-path=\"url(#clip9203)\" style=\"stroke:#000000; stroke-width:2; stroke-opacity:0.1; fill:none\" points=\"\n",
       "  1234.64,1503.47 1234.64,125.984 \n",
       "  \"/>\n",
       "<polyline clip-path=\"url(#clip9203)\" style=\"stroke:#000000; stroke-width:2; stroke-opacity:0.1; fill:none\" points=\"\n",
       "  1596.84,1503.47 1596.84,125.984 \n",
       "  \"/>\n",
       "<polyline clip-path=\"url(#clip9203)\" style=\"stroke:#000000; stroke-width:2; stroke-opacity:0.1; fill:none\" points=\"\n",
       "  1959.05,1503.47 1959.05,125.984 \n",
       "  \"/>\n",
       "<polyline clip-path=\"url(#clip9203)\" style=\"stroke:#000000; stroke-width:2; stroke-opacity:0.1; fill:none\" points=\"\n",
       "  2321.26,1503.47 2321.26,125.984 \n",
       "  \"/>\n",
       "<polyline clip-path=\"url(#clip9203)\" style=\"stroke:#000000; stroke-width:2; stroke-opacity:0.1; fill:none\" points=\"\n",
       "  148.013,1503.47 2321.26,1503.47 \n",
       "  \"/>\n",
       "<polyline clip-path=\"url(#clip9203)\" style=\"stroke:#000000; stroke-width:2; stroke-opacity:0.1; fill:none\" points=\"\n",
       "  148.013,1273.89 2321.26,1273.89 \n",
       "  \"/>\n",
       "<polyline clip-path=\"url(#clip9203)\" style=\"stroke:#000000; stroke-width:2; stroke-opacity:0.1; fill:none\" points=\"\n",
       "  148.013,1044.31 2321.26,1044.31 \n",
       "  \"/>\n",
       "<polyline clip-path=\"url(#clip9203)\" style=\"stroke:#000000; stroke-width:2; stroke-opacity:0.1; fill:none\" points=\"\n",
       "  148.013,814.729 2321.26,814.729 \n",
       "  \"/>\n",
       "<polyline clip-path=\"url(#clip9203)\" style=\"stroke:#000000; stroke-width:2; stroke-opacity:0.1; fill:none\" points=\"\n",
       "  148.013,585.148 2321.26,585.148 \n",
       "  \"/>\n",
       "<polyline clip-path=\"url(#clip9203)\" style=\"stroke:#000000; stroke-width:2; stroke-opacity:0.1; fill:none\" points=\"\n",
       "  148.013,355.566 2321.26,355.566 \n",
       "  \"/>\n",
       "<polyline clip-path=\"url(#clip9203)\" style=\"stroke:#000000; stroke-width:2; stroke-opacity:0.1; fill:none\" points=\"\n",
       "  148.013,125.984 2321.26,125.984 \n",
       "  \"/>\n",
       "<polyline clip-path=\"url(#clip9201)\" style=\"stroke:#000000; stroke-width:4; stroke-opacity:1; fill:none\" points=\"\n",
       "  148.013,1503.47 2321.26,1503.47 \n",
       "  \"/>\n",
       "<polyline clip-path=\"url(#clip9201)\" style=\"stroke:#000000; stroke-width:4; stroke-opacity:1; fill:none\" points=\"\n",
       "  148.013,1503.47 148.013,125.984 \n",
       "  \"/>\n",
       "<polyline clip-path=\"url(#clip9201)\" style=\"stroke:#000000; stroke-width:4; stroke-opacity:1; fill:none\" points=\"\n",
       "  148.013,1503.47 148.013,1482.81 \n",
       "  \"/>\n",
       "<polyline clip-path=\"url(#clip9201)\" style=\"stroke:#000000; stroke-width:4; stroke-opacity:1; fill:none\" points=\"\n",
       "  510.221,1503.47 510.221,1482.81 \n",
       "  \"/>\n",
       "<polyline clip-path=\"url(#clip9201)\" style=\"stroke:#000000; stroke-width:4; stroke-opacity:1; fill:none\" points=\"\n",
       "  872.429,1503.47 872.429,1482.81 \n",
       "  \"/>\n",
       "<polyline clip-path=\"url(#clip9201)\" style=\"stroke:#000000; stroke-width:4; stroke-opacity:1; fill:none\" points=\"\n",
       "  1234.64,1503.47 1234.64,1482.81 \n",
       "  \"/>\n",
       "<polyline clip-path=\"url(#clip9201)\" style=\"stroke:#000000; stroke-width:4; stroke-opacity:1; fill:none\" points=\"\n",
       "  1596.84,1503.47 1596.84,1482.81 \n",
       "  \"/>\n",
       "<polyline clip-path=\"url(#clip9201)\" style=\"stroke:#000000; stroke-width:4; stroke-opacity:1; fill:none\" points=\"\n",
       "  1959.05,1503.47 1959.05,1482.81 \n",
       "  \"/>\n",
       "<polyline clip-path=\"url(#clip9201)\" style=\"stroke:#000000; stroke-width:4; stroke-opacity:1; fill:none\" points=\"\n",
       "  2321.26,1503.47 2321.26,1482.81 \n",
       "  \"/>\n",
       "<polyline clip-path=\"url(#clip9201)\" style=\"stroke:#000000; stroke-width:4; stroke-opacity:1; fill:none\" points=\"\n",
       "  148.013,1503.47 180.612,1503.47 \n",
       "  \"/>\n",
       "<polyline clip-path=\"url(#clip9201)\" style=\"stroke:#000000; stroke-width:4; stroke-opacity:1; fill:none\" points=\"\n",
       "  148.013,1273.89 180.612,1273.89 \n",
       "  \"/>\n",
       "<polyline clip-path=\"url(#clip9201)\" style=\"stroke:#000000; stroke-width:4; stroke-opacity:1; fill:none\" points=\"\n",
       "  148.013,1044.31 180.612,1044.31 \n",
       "  \"/>\n",
       "<polyline clip-path=\"url(#clip9201)\" style=\"stroke:#000000; stroke-width:4; stroke-opacity:1; fill:none\" points=\"\n",
       "  148.013,814.729 180.612,814.729 \n",
       "  \"/>\n",
       "<polyline clip-path=\"url(#clip9201)\" style=\"stroke:#000000; stroke-width:4; stroke-opacity:1; fill:none\" points=\"\n",
       "  148.013,585.148 180.612,585.148 \n",
       "  \"/>\n",
       "<polyline clip-path=\"url(#clip9201)\" style=\"stroke:#000000; stroke-width:4; stroke-opacity:1; fill:none\" points=\"\n",
       "  148.013,355.566 180.612,355.566 \n",
       "  \"/>\n",
       "<polyline clip-path=\"url(#clip9201)\" style=\"stroke:#000000; stroke-width:4; stroke-opacity:1; fill:none\" points=\"\n",
       "  148.013,125.984 180.612,125.984 \n",
       "  \"/>\n",
       "<g clip-path=\"url(#clip9201)\">\n",
       "<text style=\"fill:#000000; fill-opacity:1; font-family:Arial,Helvetica Neue,Helvetica,sans-serif; font-size:48px; text-anchor:middle;\" transform=\"rotate(0, 148.013, 1557.47)\" x=\"148.013\" y=\"1557.47\">5</text>\n",
       "</g>\n",
       "<g clip-path=\"url(#clip9201)\">\n",
       "<text style=\"fill:#000000; fill-opacity:1; font-family:Arial,Helvetica Neue,Helvetica,sans-serif; font-size:48px; text-anchor:middle;\" transform=\"rotate(0, 510.221, 1557.47)\" x=\"510.221\" y=\"1557.47\">6</text>\n",
       "</g>\n",
       "<g clip-path=\"url(#clip9201)\">\n",
       "<text style=\"fill:#000000; fill-opacity:1; font-family:Arial,Helvetica Neue,Helvetica,sans-serif; font-size:48px; text-anchor:middle;\" transform=\"rotate(0, 872.429, 1557.47)\" x=\"872.429\" y=\"1557.47\">7</text>\n",
       "</g>\n",
       "<g clip-path=\"url(#clip9201)\">\n",
       "<text style=\"fill:#000000; fill-opacity:1; font-family:Arial,Helvetica Neue,Helvetica,sans-serif; font-size:48px; text-anchor:middle;\" transform=\"rotate(0, 1234.64, 1557.47)\" x=\"1234.64\" y=\"1557.47\">8</text>\n",
       "</g>\n",
       "<g clip-path=\"url(#clip9201)\">\n",
       "<text style=\"fill:#000000; fill-opacity:1; font-family:Arial,Helvetica Neue,Helvetica,sans-serif; font-size:48px; text-anchor:middle;\" transform=\"rotate(0, 1596.84, 1557.47)\" x=\"1596.84\" y=\"1557.47\">9</text>\n",
       "</g>\n",
       "<g clip-path=\"url(#clip9201)\">\n",
       "<text style=\"fill:#000000; fill-opacity:1; font-family:Arial,Helvetica Neue,Helvetica,sans-serif; font-size:48px; text-anchor:middle;\" transform=\"rotate(0, 1959.05, 1557.47)\" x=\"1959.05\" y=\"1557.47\">10</text>\n",
       "</g>\n",
       "<g clip-path=\"url(#clip9201)\">\n",
       "<text style=\"fill:#000000; fill-opacity:1; font-family:Arial,Helvetica Neue,Helvetica,sans-serif; font-size:48px; text-anchor:middle;\" transform=\"rotate(0, 2321.26, 1557.47)\" x=\"2321.26\" y=\"1557.47\">11</text>\n",
       "</g>\n",
       "<g clip-path=\"url(#clip9201)\">\n",
       "<text style=\"fill:#000000; fill-opacity:1; font-family:Arial,Helvetica Neue,Helvetica,sans-serif; font-size:48px; text-anchor:end;\" transform=\"rotate(0, 124.013, 1520.97)\" x=\"124.013\" y=\"1520.97\">5</text>\n",
       "</g>\n",
       "<g clip-path=\"url(#clip9201)\">\n",
       "<text style=\"fill:#000000; fill-opacity:1; font-family:Arial,Helvetica Neue,Helvetica,sans-serif; font-size:48px; text-anchor:end;\" transform=\"rotate(0, 124.013, 1291.39)\" x=\"124.013\" y=\"1291.39\">6</text>\n",
       "</g>\n",
       "<g clip-path=\"url(#clip9201)\">\n",
       "<text style=\"fill:#000000; fill-opacity:1; font-family:Arial,Helvetica Neue,Helvetica,sans-serif; font-size:48px; text-anchor:end;\" transform=\"rotate(0, 124.013, 1061.81)\" x=\"124.013\" y=\"1061.81\">7</text>\n",
       "</g>\n",
       "<g clip-path=\"url(#clip9201)\">\n",
       "<text style=\"fill:#000000; fill-opacity:1; font-family:Arial,Helvetica Neue,Helvetica,sans-serif; font-size:48px; text-anchor:end;\" transform=\"rotate(0, 124.013, 832.229)\" x=\"124.013\" y=\"832.229\">8</text>\n",
       "</g>\n",
       "<g clip-path=\"url(#clip9201)\">\n",
       "<text style=\"fill:#000000; fill-opacity:1; font-family:Arial,Helvetica Neue,Helvetica,sans-serif; font-size:48px; text-anchor:end;\" transform=\"rotate(0, 124.013, 602.648)\" x=\"124.013\" y=\"602.648\">9</text>\n",
       "</g>\n",
       "<g clip-path=\"url(#clip9201)\">\n",
       "<text style=\"fill:#000000; fill-opacity:1; font-family:Arial,Helvetica Neue,Helvetica,sans-serif; font-size:48px; text-anchor:end;\" transform=\"rotate(0, 124.013, 373.066)\" x=\"124.013\" y=\"373.066\">10</text>\n",
       "</g>\n",
       "<g clip-path=\"url(#clip9201)\">\n",
       "<text style=\"fill:#000000; fill-opacity:1; font-family:Arial,Helvetica Neue,Helvetica,sans-serif; font-size:48px; text-anchor:end;\" transform=\"rotate(0, 124.013, 143.484)\" x=\"124.013\" y=\"143.484\">11</text>\n",
       "</g>\n",
       "<g clip-path=\"url(#clip9201)\">\n",
       "<text style=\"fill:#000000; fill-opacity:1; font-family:Arial,Helvetica Neue,Helvetica,sans-serif; font-size:84px; text-anchor:middle;\" transform=\"rotate(0, 1234.64, 73.2)\" x=\"1234.64\" y=\"73.2\">Acton and Annie</text>\n",
       "</g>\n",
       "<circle clip-path=\"url(#clip9203)\" style=\"fill:#000000; stroke:none; fill-opacity:1\" cx=\"1596.84\" cy=\"355.566\" r=\"18\"/>\n",
       "<circle clip-path=\"url(#clip9203)\" style=\"fill:#009af9; stroke:none; fill-opacity:1\" cx=\"1596.84\" cy=\"355.566\" r=\"14\"/>\n",
       "<circle clip-path=\"url(#clip9203)\" style=\"fill:#000000; stroke:none; fill-opacity:1\" cx=\"1234.64\" cy=\"1044.31\" r=\"18\"/>\n",
       "<circle clip-path=\"url(#clip9203)\" style=\"fill:#009af9; stroke:none; fill-opacity:1\" cx=\"1234.64\" cy=\"1044.31\" r=\"14\"/>\n",
       "<circle clip-path=\"url(#clip9203)\" style=\"fill:#000000; stroke:none; fill-opacity:1\" cx=\"872.429\" cy=\"814.729\" r=\"18\"/>\n",
       "<circle clip-path=\"url(#clip9203)\" style=\"fill:#009af9; stroke:none; fill-opacity:1\" cx=\"872.429\" cy=\"814.729\" r=\"14\"/>\n",
       "<circle clip-path=\"url(#clip9203)\" style=\"fill:#000000; stroke:none; fill-opacity:1\" cx=\"1234.64\" cy=\"585.148\" r=\"18\"/>\n",
       "<circle clip-path=\"url(#clip9203)\" style=\"fill:#009af9; stroke:none; fill-opacity:1\" cx=\"1234.64\" cy=\"585.148\" r=\"14\"/>\n",
       "<polyline clip-path=\"url(#clip9203)\" style=\"stroke:#ff0000; stroke-width:8; stroke-opacity:1; fill:none\" points=\"\n",
       "  872.429,929.52 1596.84,470.357 \n",
       "  \"/>\n",
       "</svg>\n"
      ]
     },
     "execution_count": 61,
     "metadata": {},
     "output_type": "execute_result"
    }
   ],
   "source": [
    "@df acton_and_annie_in_common scatter([:Acton], [:Annie], smooth = true, line = :red, linewidth = 2, title = \"Acton and Annie\", legend = false, xlimits = (5, 11), ylimits = (5, 11))"
   ]
  },
  {
   "cell_type": "code",
   "execution_count": 66,
   "metadata": {
    "inputHidden": false,
    "outputHidden": false
   },
   "outputs": [
    {
     "data": {
      "text/plain": [
       "0.6324555320336759"
      ]
     },
     "execution_count": 66,
     "metadata": {},
     "output_type": "execute_result"
    }
   ],
   "source": [
    "using Statistics\n",
    "cor(acton_and_annie_in_common[:Acton], acton_and_annie_in_common[:Annie])"
   ]
  },
  {
   "cell_type": "code",
   "execution_count": 67,
   "metadata": {
    "inputHidden": false,
    "outputHidden": false
   },
   "outputs": [
    {
     "data": {
      "text/html": [
       "<table class=\"data-frame\"><thead><tr><th></th><th>Movie title</th><th>Acton</th><th>Annie</th></tr><tr><th></th><th>String⍰</th><th>Int64⍰</th><th>Int64⍰</th></tr></thead><tbody><tr><th>1</th><td>Arrival (2016)</td><td>5</td><td>0</td></tr><tr><th>2</th><td>Hell or High Water (2016)</td><td>3</td><td>0</td></tr><tr><th>3</th><td>La La Land (2016)</td><td>6</td><td>0</td></tr><tr><th>4</th><td>Captain America: Civil War (2016)</td><td>10</td><td>0</td></tr></tbody></table>"
      ],
      "text/plain": [
       "4×3 DataFrame\n",
       "│ Row │ Movie title                       │ Acton  │ Annie  │\n",
       "│     │ \u001b[90mUnion{Missing, String}\u001b[39m            │ \u001b[90mInt64⍰\u001b[39m │ \u001b[90mInt64⍰\u001b[39m │\n",
       "├─────┼───────────────────────────────────┼────────┼────────┤\n",
       "│ 1   │ Arrival (2016)                    │ 5      │ 0      │\n",
       "│ 2   │ Hell or High Water (2016)         │ 3      │ 0      │\n",
       "│ 3   │ La La Land (2016)                 │ 6      │ 0      │\n",
       "│ 4   │ Captain America: Civil War (2016) │ 10     │ 0      │"
      ]
     },
     "execution_count": 67,
     "metadata": {},
     "output_type": "execute_result"
    }
   ],
   "source": [
    "annies_recommendations = acton_and_annie[(acton_and_annie[:Annie] .== 0) .& (acton_and_annie[:Acton] .> 0), :]"
   ]
  },
  {
   "cell_type": "code",
   "execution_count": 68,
   "metadata": {
    "inputHidden": false,
    "outputHidden": false
   },
   "outputs": [
    {
     "name": "stderr",
     "output_type": "stream",
     "text": [
      "┌ Warning: indexing with colon as row will create a copy in the future use df[col_inds] to get the columns without copying\n",
      "│   caller = top-level scope at In[68]:1\n",
      "└ @ Core In[68]:1\n"
     ]
    },
    {
     "data": {
      "text/html": [
       "<table class=\"data-frame\"><thead><tr><th></th><th>Movie title</th><th>Dean</th><th>Kit</th></tr><tr><th></th><th>String⍰</th><th>Int64⍰</th><th>Int64⍰</th></tr></thead><tbody><tr><th>1</th><td>Moonlight (2016)</td><td>10</td><td>0</td></tr><tr><th>2</th><td>Zootopia (2016)</td><td>0</td><td>10</td></tr><tr><th>3</th><td>Arrival (2016)</td><td>10</td><td>0</td></tr><tr><th>4</th><td>Hell or High Water (2016)</td><td>10</td><td>0</td></tr><tr><th>5</th><td>La La Land (2016)</td><td>9</td><td>0</td></tr><tr><th>6</th><td>The Jungle Book (2016)</td><td>2</td><td>9</td></tr><tr><th>7</th><td>Manchester by the Sea (2016)</td><td>8</td><td>0</td></tr><tr><th>8</th><td>Finding Dory (2016)</td><td>4</td><td>10</td></tr><tr><th>9</th><td>Captain America: Civil War (2016)</td><td>6</td><td>0</td></tr><tr><th>10</th><td>Moana (2016)</td><td>0</td><td>10</td></tr></tbody></table>"
      ],
      "text/plain": [
       "10×3 DataFrame\n",
       "│ Row │ Movie title                       │ Dean   │ Kit    │\n",
       "│     │ \u001b[90mUnion{Missing, String}\u001b[39m            │ \u001b[90mInt64⍰\u001b[39m │ \u001b[90mInt64⍰\u001b[39m │\n",
       "├─────┼───────────────────────────────────┼────────┼────────┤\n",
       "│ 1   │ Moonlight (2016)                  │ 10     │ 0      │\n",
       "│ 2   │ Zootopia (2016)                   │ 0      │ 10     │\n",
       "│ 3   │ Arrival (2016)                    │ 10     │ 0      │\n",
       "│ 4   │ Hell or High Water (2016)         │ 10     │ 0      │\n",
       "│ 5   │ La La Land (2016)                 │ 9      │ 0      │\n",
       "│ 6   │ The Jungle Book (2016)            │ 2      │ 9      │\n",
       "│ 7   │ Manchester by the Sea (2016)      │ 8      │ 0      │\n",
       "│ 8   │ Finding Dory (2016)               │ 4      │ 10     │\n",
       "│ 9   │ Captain America: Civil War (2016) │ 6      │ 0      │\n",
       "│ 10  │ Moana (2016)                      │ 0      │ 10     │"
      ]
     },
     "execution_count": 68,
     "metadata": {},
     "output_type": "execute_result"
    }
   ],
   "source": [
    "movies[:, [Symbol(\"Movie title\"), :Dean, :Kit]]"
   ]
  },
  {
   "cell_type": "code",
   "execution_count": null,
   "metadata": {
    "inputHidden": false,
    "outputHidden": false
   },
   "outputs": [],
   "source": []
  }
 ],
 "metadata": {
  "kernel_info": {
   "name": "julia-1.0"
  },
  "kernelspec": {
   "display_name": "Julia 1.0.1",
   "language": "julia",
   "name": "julia-1.0"
  },
  "language_info": {
   "file_extension": ".jl",
   "mimetype": "application/julia",
   "name": "julia",
   "version": "1.0.2"
  },
  "nteract": {
   "version": "0.12.2"
  }
 },
 "nbformat": 4,
 "nbformat_minor": 2
}
