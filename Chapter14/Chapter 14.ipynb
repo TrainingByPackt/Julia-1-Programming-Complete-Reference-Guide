{
 "cells": [
  {
   "cell_type": "code",
   "execution_count": null,
   "metadata": {},
   "outputs": [],
   "source": [
    "using Pkg\n",
    "pkg\"activate .\""
   ]
  },
  {
   "cell_type": "code",
   "execution_count": null,
   "metadata": {},
   "outputs": [],
   "source": [
    "# Run this cell in order to download all the package dependencies with the exact versions used in the book\n",
    "# This is necessary if (some of) the packages have been updated and have introduced breaking changes\n",
    "pkg\"instantiate\""
   ]
  },
  {
   "cell_type": "code",
   "execution_count": null,
   "metadata": {},
   "outputs": [],
   "source": [
    "using HTTP, Sockets\n",
    "\n",
    "const HOST = ip\"0.0.0.0\"\n",
    "const PORT = 9999\n",
    "\n",
    "router = HTTP.Router()\n",
    "server = HTTP.Server(router)\n",
    "\n",
    "HTTP.register!(router, \"/\", HTTP.HandlerFunction(req -> HTTP.Messages.Response(200, \"Hello World\")))\n",
    "HTTP.register!(router, \"/bye\", HTTP.HandlerFunction(req -> HTTP.Messages.Response(200, \"Bye\")))\n",
    "HTTP.register!(router, \"*\", HTTP.HandlerFunction(req -> HTTP.Messages.Response(404, \"Not found\")))\n",
    "\n",
    "HTTP.serve(server, HOST, PORT)"
   ]
  },
  {
   "cell_type": "code",
   "execution_count": null,
   "metadata": {},
   "outputs": [],
   "source": []
  }
 ],
 "metadata": {
  "kernelspec": {
   "display_name": "Julia 1.0.1",
   "language": "julia",
   "name": "julia-1.0"
  },
  "language_info": {
   "file_extension": ".jl",
   "mimetype": "application/julia",
   "name": "julia",
   "version": "1.0.2"
  }
 },
 "nbformat": 4,
 "nbformat_minor": 2
}
